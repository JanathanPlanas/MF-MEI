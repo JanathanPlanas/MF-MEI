{
 "cells": [
  {
   "cell_type": "code",
   "execution_count": 1,
   "metadata": {},
   "outputs": [
    {
     "ename": "ValueError",
     "evalue": "1 columns passed, passed data had 5 columns",
     "output_type": "error",
     "traceback": [
      "\u001b[1;31m---------------------------------------------------------------------------\u001b[0m",
      "\u001b[1;31mAssertionError\u001b[0m                            Traceback (most recent call last)",
      "File \u001b[1;32mc:\\Users\\robo_mis_mfd\\AppData\\Local\\Programs\\Python\\Python311\\Lib\\site-packages\\pandas\\core\\internals\\construction.py:934\u001b[0m, in \u001b[0;36m_finalize_columns_and_data\u001b[1;34m(content, columns, dtype)\u001b[0m\n\u001b[0;32m    933\u001b[0m \u001b[39mtry\u001b[39;00m:\n\u001b[1;32m--> 934\u001b[0m     columns \u001b[39m=\u001b[39m _validate_or_indexify_columns(contents, columns)\n\u001b[0;32m    935\u001b[0m \u001b[39mexcept\u001b[39;00m \u001b[39mAssertionError\u001b[39;00m \u001b[39mas\u001b[39;00m err:\n\u001b[0;32m    936\u001b[0m     \u001b[39m# GH#26429 do not raise user-facing AssertionError\u001b[39;00m\n",
      "File \u001b[1;32mc:\\Users\\robo_mis_mfd\\AppData\\Local\\Programs\\Python\\Python311\\Lib\\site-packages\\pandas\\core\\internals\\construction.py:981\u001b[0m, in \u001b[0;36m_validate_or_indexify_columns\u001b[1;34m(content, columns)\u001b[0m\n\u001b[0;32m    979\u001b[0m \u001b[39mif\u001b[39;00m \u001b[39mnot\u001b[39;00m is_mi_list \u001b[39mand\u001b[39;00m \u001b[39mlen\u001b[39m(columns) \u001b[39m!=\u001b[39m \u001b[39mlen\u001b[39m(content):  \u001b[39m# pragma: no cover\u001b[39;00m\n\u001b[0;32m    980\u001b[0m     \u001b[39m# caller's responsibility to check for this...\u001b[39;00m\n\u001b[1;32m--> 981\u001b[0m     \u001b[39mraise\u001b[39;00m \u001b[39mAssertionError\u001b[39;00m(\n\u001b[0;32m    982\u001b[0m         \u001b[39mf\u001b[39m\u001b[39m\"\u001b[39m\u001b[39m{\u001b[39;00m\u001b[39mlen\u001b[39m(columns)\u001b[39m}\u001b[39;00m\u001b[39m columns passed, passed data had \u001b[39m\u001b[39m\"\u001b[39m\n\u001b[0;32m    983\u001b[0m         \u001b[39mf\u001b[39m\u001b[39m\"\u001b[39m\u001b[39m{\u001b[39;00m\u001b[39mlen\u001b[39m(content)\u001b[39m}\u001b[39;00m\u001b[39m columns\u001b[39m\u001b[39m\"\u001b[39m\n\u001b[0;32m    984\u001b[0m     )\n\u001b[0;32m    985\u001b[0m \u001b[39mif\u001b[39;00m is_mi_list:\n\u001b[0;32m    986\u001b[0m     \u001b[39m# check if nested list column, length of each sub-list should be equal\u001b[39;00m\n",
      "\u001b[1;31mAssertionError\u001b[0m: 1 columns passed, passed data had 5 columns",
      "\nThe above exception was the direct cause of the following exception:\n",
      "\u001b[1;31mValueError\u001b[0m                                Traceback (most recent call last)",
      "Cell \u001b[1;32mIn[1], line 52\u001b[0m\n\u001b[0;32m     49\u001b[0m         dados \u001b[39m=\u001b[39m [linha \u001b[39mfor\u001b[39;00m linha \u001b[39min\u001b[39;00m leitor_csv]\n\u001b[0;32m     51\u001b[0m     \u001b[39m# Crie um DataFrame Pandas usando o cabeçalho e os dados lidos\u001b[39;00m\n\u001b[1;32m---> 52\u001b[0m dataframe \u001b[39m=\u001b[39m pd\u001b[39m.\u001b[39;49mDataFrame(dados, columns\u001b[39m=\u001b[39;49mcabecalho)\n",
      "File \u001b[1;32mc:\\Users\\robo_mis_mfd\\AppData\\Local\\Programs\\Python\\Python311\\Lib\\site-packages\\pandas\\core\\frame.py:782\u001b[0m, in \u001b[0;36mDataFrame.__init__\u001b[1;34m(self, data, index, columns, dtype, copy)\u001b[0m\n\u001b[0;32m    780\u001b[0m     \u001b[39mif\u001b[39;00m columns \u001b[39mis\u001b[39;00m \u001b[39mnot\u001b[39;00m \u001b[39mNone\u001b[39;00m:\n\u001b[0;32m    781\u001b[0m         columns \u001b[39m=\u001b[39m ensure_index(columns)\n\u001b[1;32m--> 782\u001b[0m     arrays, columns, index \u001b[39m=\u001b[39m nested_data_to_arrays(\n\u001b[0;32m    783\u001b[0m         \u001b[39m# error: Argument 3 to \"nested_data_to_arrays\" has incompatible\u001b[39;49;00m\n\u001b[0;32m    784\u001b[0m         \u001b[39m# type \"Optional[Collection[Any]]\"; expected \"Optional[Index]\"\u001b[39;49;00m\n\u001b[0;32m    785\u001b[0m         data,\n\u001b[0;32m    786\u001b[0m         columns,\n\u001b[0;32m    787\u001b[0m         index,  \u001b[39m# type: ignore[arg-type]\u001b[39;49;00m\n\u001b[0;32m    788\u001b[0m         dtype,\n\u001b[0;32m    789\u001b[0m     )\n\u001b[0;32m    790\u001b[0m     mgr \u001b[39m=\u001b[39m arrays_to_mgr(\n\u001b[0;32m    791\u001b[0m         arrays,\n\u001b[0;32m    792\u001b[0m         columns,\n\u001b[1;32m   (...)\u001b[0m\n\u001b[0;32m    795\u001b[0m         typ\u001b[39m=\u001b[39mmanager,\n\u001b[0;32m    796\u001b[0m     )\n\u001b[0;32m    797\u001b[0m \u001b[39melse\u001b[39;00m:\n",
      "File \u001b[1;32mc:\\Users\\robo_mis_mfd\\AppData\\Local\\Programs\\Python\\Python311\\Lib\\site-packages\\pandas\\core\\internals\\construction.py:498\u001b[0m, in \u001b[0;36mnested_data_to_arrays\u001b[1;34m(data, columns, index, dtype)\u001b[0m\n\u001b[0;32m    495\u001b[0m \u001b[39mif\u001b[39;00m is_named_tuple(data[\u001b[39m0\u001b[39m]) \u001b[39mand\u001b[39;00m columns \u001b[39mis\u001b[39;00m \u001b[39mNone\u001b[39;00m:\n\u001b[0;32m    496\u001b[0m     columns \u001b[39m=\u001b[39m ensure_index(data[\u001b[39m0\u001b[39m]\u001b[39m.\u001b[39m_fields)\n\u001b[1;32m--> 498\u001b[0m arrays, columns \u001b[39m=\u001b[39m to_arrays(data, columns, dtype\u001b[39m=\u001b[39;49mdtype)\n\u001b[0;32m    499\u001b[0m columns \u001b[39m=\u001b[39m ensure_index(columns)\n\u001b[0;32m    501\u001b[0m \u001b[39mif\u001b[39;00m index \u001b[39mis\u001b[39;00m \u001b[39mNone\u001b[39;00m:\n",
      "File \u001b[1;32mc:\\Users\\robo_mis_mfd\\AppData\\Local\\Programs\\Python\\Python311\\Lib\\site-packages\\pandas\\core\\internals\\construction.py:840\u001b[0m, in \u001b[0;36mto_arrays\u001b[1;34m(data, columns, dtype)\u001b[0m\n\u001b[0;32m    837\u001b[0m     data \u001b[39m=\u001b[39m [\u001b[39mtuple\u001b[39m(x) \u001b[39mfor\u001b[39;00m x \u001b[39min\u001b[39;00m data]\n\u001b[0;32m    838\u001b[0m     arr \u001b[39m=\u001b[39m _list_to_arrays(data)\n\u001b[1;32m--> 840\u001b[0m content, columns \u001b[39m=\u001b[39m _finalize_columns_and_data(arr, columns, dtype)\n\u001b[0;32m    841\u001b[0m \u001b[39mreturn\u001b[39;00m content, columns\n",
      "File \u001b[1;32mc:\\Users\\robo_mis_mfd\\AppData\\Local\\Programs\\Python\\Python311\\Lib\\site-packages\\pandas\\core\\internals\\construction.py:937\u001b[0m, in \u001b[0;36m_finalize_columns_and_data\u001b[1;34m(content, columns, dtype)\u001b[0m\n\u001b[0;32m    934\u001b[0m     columns \u001b[39m=\u001b[39m _validate_or_indexify_columns(contents, columns)\n\u001b[0;32m    935\u001b[0m \u001b[39mexcept\u001b[39;00m \u001b[39mAssertionError\u001b[39;00m \u001b[39mas\u001b[39;00m err:\n\u001b[0;32m    936\u001b[0m     \u001b[39m# GH#26429 do not raise user-facing AssertionError\u001b[39;00m\n\u001b[1;32m--> 937\u001b[0m     \u001b[39mraise\u001b[39;00m \u001b[39mValueError\u001b[39;00m(err) \u001b[39mfrom\u001b[39;00m \u001b[39merr\u001b[39;00m\n\u001b[0;32m    939\u001b[0m \u001b[39mif\u001b[39;00m \u001b[39mlen\u001b[39m(contents) \u001b[39mand\u001b[39;00m contents[\u001b[39m0\u001b[39m]\u001b[39m.\u001b[39mdtype \u001b[39m==\u001b[39m np\u001b[39m.\u001b[39mobject_:\n\u001b[0;32m    940\u001b[0m     contents \u001b[39m=\u001b[39m convert_object_array(contents, dtype\u001b[39m=\u001b[39mdtype)\n",
      "\u001b[1;31mValueError\u001b[0m: 1 columns passed, passed data had 5 columns"
     ]
    }
   ],
   "source": [
    "from  helpers.helpers  import (bot ,\n",
    "                               last_modified_file_date,\n",
    "                               last_file,send_message,read_log,\n",
    "                               \n",
    "                               print_path, sender_photo)\n",
    "\n",
    "from datetime import datetime\n",
    "import os\n",
    "import pandas as pd\n",
    "import csv\n",
    "\n",
    "\n",
    "file_path = r\"\\\\192.168.10.21\\saturno\\24 - MIS\\07 - TIM\\32 - Base MKOM\\02 - Output\"\n",
    "image_save = r\"\\\\192.168.10.21\\saturno\\24 - MIS\\07 - TIM\\42 - Acompanhamento Reports Python\\04 - Mkom\\Mkom.png\"\n",
    "log_path = r\"\\\\192.168.10.21\\saturno\\24 - MIS\\07 - TIM\\32 - Base MKOM\\01 - Fluxo\\BASE_MKOM.log.txt\"\n",
    "\n",
    "datetimenow = datetime.now().strftime(\"%Y/%m/%d %H:%M:%S\")\n",
    "\n",
    "token , chat = bot()\n",
    "\n",
    "filename=  os.path.basename(last_file(file_path))\n",
    "\n",
    "last_date = last_modified_file_date(path=file_path)\n",
    "\n",
    "\n",
    "print_path(path_list=file_path, image_save_path= image_save)\n",
    "\n",
    "error, finished = read_log(log_path)\n",
    "\n",
    "contador_linhas = 0\n",
    "\n",
    "# FUNÇÃO CRIADA PARA CONTAR LINHAS \n",
    "    # Inicialize o contador de linhas\n",
    "contador_linhas = 0\n",
    "\n",
    "    # Crie uma lista para armazenar as linhas do arquivo\n",
    "linhas = []\n",
    "\n",
    "    # Abra o arquivo CSV em modo de leitura\n",
    "with open(last_file(file_path), 'r') as arquivo_csv:\n",
    "        # Crie um objeto leitor CSV\n",
    "        # Crie um objeto leitor CSV\n",
    "        leitor_csv = csv.reader(arquivo_csv)\n",
    "\n",
    "        # Leia o cabeçalho do arquivo CSV (primeira linha)\n",
    "        cabecalho = next(leitor_csv)\n",
    "\n",
    "        # Leia os dados restantes do arquivo CSV\n",
    "        dados = [linha for linha in leitor_csv]\n",
    "\n",
    "    # Crie um DataFrame Pandas usando o cabeçalho e os dados lidos\n",
    "dataframe = pd.DataFrame(dados, columns=cabecalho)\n"
   ]
  },
  {
   "cell_type": "code",
   "execution_count": 3,
   "metadata": {},
   "outputs": [
    {
     "data": {
      "text/plain": [
       "38312"
      ]
     },
     "execution_count": 3,
     "metadata": {},
     "output_type": "execute_result"
    }
   ],
   "source": [
    "#---- Contando linhas\n",
    "\n",
    "from  helpers.helpers  import (bot ,\n",
    "                               last_modified_file_date,\n",
    "                               last_file,send_message,read_log)\n",
    "import pandas as pd\n",
    "file_path =r\"\\\\192.168.10.21\\saturno\\24 - MIS\\07 - TIM\\44 - Relatório META\\02 - Output\"\n",
    "\n",
    "# Caminho para o arquivo Parquet\n",
    "parquet_file_path =last_file(file_path=file_path)\n",
    "\n",
    "len(pd.read_parquet(parquet_file_path))\n"
   ]
  },
  {
   "cell_type": "code",
   "execution_count": 12,
   "metadata": {},
   "outputs": [
    {
     "ename": "NameError",
     "evalue": "name 'dataframe' is not defined",
     "output_type": "error",
     "traceback": [
      "\u001b[1;31m---------------------------------------------------------------------------\u001b[0m",
      "\u001b[1;31mNameError\u001b[0m                                 Traceback (most recent call last)",
      "Cell \u001b[1;32mIn[12], line 3\u001b[0m\n\u001b[0;32m      1\u001b[0m \u001b[39mfrom\u001b[39;00m \u001b[39mpandas\u001b[39;00m \u001b[39mimport\u001b[39;00m read_csv\n\u001b[1;32m----> 3\u001b[0m dataframe\u001b[39m.\u001b[39mread_csv(last_file(file_path\u001b[39m=\u001b[39mfile_path),encoding\u001b[39m=\u001b[39m\u001b[39m'\u001b[39m\u001b[39mISO-8859-1\u001b[39m\u001b[39m'\u001b[39m, sep\u001b[39m=\u001b[39m \u001b[39m\"\u001b[39m\u001b[39m;\u001b[39m\u001b[39m\"\u001b[39m)\u001b[39m.\u001b[39mshape[\u001b[39m0\u001b[39m]\n",
      "\u001b[1;31mNameError\u001b[0m: name 'dataframe' is not defined"
     ]
    }
   ],
   "source": [
    "from pandas import read_csv\n",
    "\n",
    "dataframe.read_csv(last_file(file_path=file_path),encoding='ISO-8859-1', sep= \";\").shape[0]"
   ]
  },
  {
   "cell_type": "code",
   "execution_count": 6,
   "metadata": {},
   "outputs": [
    {
     "data": {
      "text/plain": [
       "'\\\\\\\\192.168.10.21\\\\saturno\\\\24 - MIS\\\\07 - TIM\\\\32 - Base MKOM\\\\02 - Output\\\\pesquisa-autoresposta-2023-09-08-16_03_04-367002000181.csv'"
      ]
     },
     "execution_count": 6,
     "metadata": {},
     "output_type": "execute_result"
    }
   ],
   "source": [
    "last_file(file_path=file_path)"
   ]
  },
  {
   "cell_type": "code",
   "execution_count": 4,
   "metadata": {},
   "outputs": [],
   "source": [
    "from helpers.helpers import *\n",
    "import os\n",
    "\n",
    "file_path = r\"\\\\192.168.10.21\\saturno\\24 - MIS\\07 - TIM\\32 - Base MKOM\\02 - Output\"\n",
    "image_save = r\"\\\\192.168.10.21\\saturno\\24 - MIS\\07 - TIM\\42 - Acompanhamento Reports Python\\04 - Mkom\\Mkom.png\"\n",
    "log_path = r\"\\\\192.168.10.21\\saturno\\24 - MIS\\07 - TIM\\32 - Base MKOM\\01 - Fluxo\\BASE_MKOM.log.txt\"\n",
    "\n",
    "datetimenow = datetime.now().strftime(\"%Y/%m/%d %H:%M:%S\")\n",
    "\n",
    "token , chat = bot()\n",
    "\n",
    "filename=  os.path.basename(last_file(file_path))\n"
   ]
  },
  {
   "cell_type": "code",
   "execution_count": 14,
   "metadata": {},
   "outputs": [
    {
     "data": {
      "text/plain": [
       "'\\'Error - Alteryx Engine: Error running Event #1: The external program \"C:\\\\\\\\Users\\\\\\\\robo_mis_mfd\\\\\\\\Desktop\\\\\\\\disparar_fluxo.bat\" returned an error code: 1\\\\n\\''"
      ]
     },
     "execution_count": 14,
     "metadata": {},
     "output_type": "execute_result"
    }
   ],
   "source": [
    "fin  , erros = read_log(log_path)\n",
    "fin"
   ]
  },
  {
   "cell_type": "code",
   "execution_count": 5,
   "metadata": {},
   "outputs": [
    {
     "name": "stdout",
     "output_type": "stream",
     "text": [
      "Finished in 2:44.49 minutes with 1 warning\n",
      "\n"
     ]
    },
    {
     "data": {
      "text/plain": [
       "100"
      ]
     },
     "execution_count": 5,
     "metadata": {},
     "output_type": "execute_result"
    }
   ],
   "source": [
    "from helpers.helpers import *\n",
    "\n",
    "# Abra o arquivo de log em modo de leitura\n",
    "with open(r'\\\\192.168.10.21\\saturno\\24 - MIS\\07 - TIM\\08 - Block List Rajada\\08 - Base Ativa RMCA\\FLUXO_BASE_ATIVA_RAJADA.log.txt', 'r') as arquivo_log:\n",
    "    linhas = arquivo_log.readlines()\n",
    "\n",
    "# Use uma função lambda para filtrar as linhas que começam com \"Finished\"\n",
    "finished_lines = list(filter(lambda linha: linha.startswith('Finished'), linhas))\n",
    "\n",
    "# Imprima as linhas que começam com \"Error\"\n",
    "error_lines = list(filter(lambda linha: linha.startswith('Error'), linhas))\n",
    "for linha in error_lines:\n",
    "    print(linha)\n",
    "\n",
    "# Imprima a última linha que começou com \"Finished\"\n",
    "if finished_lines:\n",
    "    print(finished_lines[-1])\n",
    "\n",
    "    \n",
    "\n",
    "file =r'\\\\192.168.10.21\\saturno\\24 - MIS\\07 - TIM\\08 - Block List Rajada\\05 - Output\\2CX'\n",
    "\n",
    "with open(last_file(file_path=file), 'r') as arquivo_log:\n",
    "    linhas = arquivo_log.readlines()\n",
    "\n",
    "\n",
    "row = len(linhas)\n",
    "\n",
    "row"
   ]
  },
  {
   "cell_type": "code",
   "execution_count": 5,
   "metadata": {},
   "outputs": [
    {
     "name": "stdout",
     "output_type": "stream",
     "text": [
      "Atalho 'MKOM Link.lnk' criado com sucesso na área de trabalho.\n",
      "Caminho do atalho: \\\\192.168.10.21\\saturno\\24 - MIS\\07 - TIM\\42 - Acompanhamento Reports Python\\04 - Mkom\\MKOM Link.lnk\n"
     ]
    }
   ],
   "source": [
    "import os\n",
    "import pythoncom\n",
    "from win32com.client import Dispatch\n",
    "\n",
    "# Caminho para o arquivo .bat que você deseja criar um atalho\n",
    "bat_file_path = r\"\\\\192.168.10.21\\saturno\\24 - MIS\\07 - TIM\\42 - Acompanhamento Reports Python\\04 - Mkom\\mkom.bat\"\n",
    "\n",
    "# Localização onde você deseja criar o atalho\n",
    "shortcut_path = os.path.expanduser(r\"\\\\192.168.10.21\\saturno\\24 - MIS\\07 - TIM\\42 - Acompanhamento Reports Python\\04 - Mkom\")  # Por exemplo, na área de trabalho\n",
    "\n",
    "# Nome do atalho\n",
    "shortcut_name = \"MKOM Link.lnk\"\n",
    "\n",
    "# Crie o atalho\n",
    "try:\n",
    "    shell = Dispatch('WScript.Shell')\n",
    "    shortcut = shell.CreateShortCut(os.path.join(shortcut_path, shortcut_name))\n",
    "    shortcut.Targetpath = bat_file_path\n",
    "    shortcut.save()\n",
    "    print(f\"Atalho '{shortcut_name}' criado com sucesso na área de trabalho.\")\n",
    "    \n",
    "    # Armazene o caminho completo do atalho em uma variável\n",
    "    shortcut_path = os.path.join(shortcut_path, shortcut_name)\n",
    "    \n",
    "    print(f'Caminho do atalho: {shortcut_path}')\n",
    "except Exception as e:\n",
    "    print(f\"Erro ao criar o atalho: {e}\")\n"
   ]
  },
  {
   "cell_type": "code",
   "execution_count": 8,
   "metadata": {},
   "outputs": [],
   "source": [
    "\n",
    "from  helpers.helpers  import (bot ,\n",
    "                               last_modified_file_date,\n",
    "                               last_file,send_message,read_log,\n",
    "                               \n",
    "                               print_path, sender_photo)\n",
    "\n",
    "from datetime import datetime\n",
    "import os\n",
    "\n",
    "\n",
    "file_path = r\"\\\\192.168.10.21\\saturno\\24 - MIS\\07 - TIM\\32 - Base MKOM\\02 - Output\"\n",
    "image_save = r\"\\\\192.168.10.21\\saturno\\24 - MIS\\07 - TIM\\42 - Acompanhamento Reports Python\\04 - Mkom\\Mkom.png\"\n",
    "log_path = r\"\\\\192.168.10.21\\saturno\\24 - MIS\\07 - TIM\\32 - Base MKOM\\01 - Fluxo\\BASE_MKOM.log.txt\"\n",
    "\n",
    "datetimenow = datetime.now().strftime(\"%Y/%m/%d %H:%M:%S\")\n",
    "\n",
    "token , chat = bot()\n",
    "\n",
    "filename=  os.path.basename(last_file(file_path))\n",
    "\n",
    "last_date = last_modified_file_date(path=file_path)\n",
    "\n",
    "\n",
    "print_path(path_list=file_path, image_save_path= image_save)\n",
    "\n",
    "error, finished = read_log(log_path)\n",
    "\n",
    "\n",
    "# FUNÇÃO CRIADA PARA CONTAR LINHAS \n",
    "with open(last_file(file_path=file_path), 'r') as file:\n",
    "    linhas = file.readline()\n",
    "\n",
    "    row = len(linhas)\n",
    "\n",
    "\n",
    "\n",
    "\n",
    "Mensagem = f\"\"\"⚠️ BASE MKOM {datetimenow}\\n \n",
    "✅ Arquivo: {filename} , Ultima modificação {last_date}\n",
    "✅ Registors : {row}\n",
    "✅ Finished : {finished} \n",
    "❌   Error : {error}\n",
    "\n",
    "\"\"\"\n",
    "\n",
    "send_message(token= \"6544006198:AAG8OQSnoIgUJCRzh8mBjQomhWDaqJ6guCM\", chat_id= -1001976682748, message=Mensagem)\n",
    "# sender_photo(token=token, chat= chat ,\n",
    "#              caminho= image_save)\n"
   ]
  },
  {
   "cell_type": "code",
   "execution_count": 4,
   "metadata": {},
   "outputs": [
    {
     "data": {
      "text/plain": [
       "'2023/09/13 09:15:28'"
      ]
     },
     "execution_count": 4,
     "metadata": {},
     "output_type": "execute_result"
    }
   ],
   "source": [
    "\n",
    "from  helpers.helpers  import (bot ,\n",
    "                               last_modified_file_date,\n",
    "                               last_file,send_message,read_log)\n",
    "\n",
    "from datetime import datetime\n",
    "import os\n",
    "\n",
    "token, chat = bot()\n",
    "\n",
    "base_short =r\"\\\\192.168.10.21\\saturno\\24 - MIS\\07 - TIM\\11 - Relatório de ShortCall\\03 - Analítico\"\n",
    "\n",
    "filename_short = os.path.basename(last_file(file_path=base_short, extension='csv'))\n",
    "last_date_modified= last_modified_file_date(path=base_short)\n",
    "\n",
    "datetimenow = datetime.now().strftime(\"%Y/%m/%d %H:%M:%S\")\n",
    "\n",
    "\n",
    "# Abra o arquivo de log em modo de leitura\n",
    "\n",
    "# Imprima as linhas que começam com \"Error\"\n",
    "error_lines , finished_lines = read_log(r'\\\\192.168.10.21\\saturno\\24 - MIS\\07 - TIM\\11 - Relatório de ShortCall\\ShortCall_Tim.log.txt')\n",
    "\n",
    "\n",
    "Mensagem = f\"\"\"⚠️ SHORTCALL {datetimenow}\\n \n",
    "       ✅ Ultimo arquivo :{filename_short}, {last_date_modified}\\n\n",
    "       \n",
    "        ✅ Finished : {finished_lines} \n",
    "        ❌   Error : {error_lines}\n",
    "  \"\"\"\n"
   ]
  },
  {
   "cell_type": "code",
   "execution_count": 6,
   "metadata": {},
   "outputs": [
    {
     "data": {
      "text/plain": [
       "'2023/09/13 09:15:28'"
      ]
     },
     "execution_count": 6,
     "metadata": {},
     "output_type": "execute_result"
    }
   ],
   "source": [
    "last_modified_file_date(path=base_short)"
   ]
  },
  {
   "cell_type": "code",
   "execution_count": 2,
   "metadata": {},
   "outputs": [
    {
     "data": {
      "text/html": [
       "<div>\n",
       "<style scoped>\n",
       "    .dataframe tbody tr th:only-of-type {\n",
       "        vertical-align: middle;\n",
       "    }\n",
       "\n",
       "    .dataframe tbody tr th {\n",
       "        vertical-align: top;\n",
       "    }\n",
       "\n",
       "    .dataframe thead th {\n",
       "        text-align: right;\n",
       "    }\n",
       "</style>\n",
       "<table border=\"1\" class=\"dataframe\">\n",
       "  <thead>\n",
       "    <tr style=\"text-align: right;\">\n",
       "      <th></th>\n",
       "      <th>;Data;Hora;Operador;IdOperador;Tabulados;PhoneNumber;tempoFalando;tempoTabulando;NomeServico;tempoEspera;WorkGroup_Id;SUPERVISOR</th>\n",
       "    </tr>\n",
       "  </thead>\n",
       "  <tbody>\n",
       "    <tr>\n",
       "      <th>0</th>\n",
       "      <td>0;2023-09-02;08:01:21;EVILA RAQUEL PINTO NUNES...</td>\n",
       "    </tr>\n",
       "    <tr>\n",
       "      <th>1</th>\n",
       "      <td>1;2023-09-02;08:01:46;MARIA ANGELICA BATISTA A...</td>\n",
       "    </tr>\n",
       "    <tr>\n",
       "      <th>2</th>\n",
       "      <td>2;2023-09-02;08:02:18;ANNA FLAVIA MOTA DOMINGO...</td>\n",
       "    </tr>\n",
       "    <tr>\n",
       "      <th>3</th>\n",
       "      <td>3;2023-09-02;08:02:53;LISANDRA DA COSTA SIMPLI...</td>\n",
       "    </tr>\n",
       "    <tr>\n",
       "      <th>4</th>\n",
       "      <td>4;2023-09-02;08:03:28;KAMILLA PEREIRA DA SILVA...</td>\n",
       "    </tr>\n",
       "    <tr>\n",
       "      <th>...</th>\n",
       "      <td>...</td>\n",
       "    </tr>\n",
       "    <tr>\n",
       "      <th>39051</th>\n",
       "      <td>146;2023-09-02;20:36:52;NEIANE DA SILVA LEANDR...</td>\n",
       "    </tr>\n",
       "    <tr>\n",
       "      <th>39052</th>\n",
       "      <td>147;2023-09-02;19:14:46;NEIANE DA SILVA LEANDR...</td>\n",
       "    </tr>\n",
       "    <tr>\n",
       "      <th>39053</th>\n",
       "      <td>148;2023-09-02;19:16:15;NEIANE DA SILVA LEANDR...</td>\n",
       "    </tr>\n",
       "    <tr>\n",
       "      <th>39054</th>\n",
       "      <td>149;2023-09-02;20:39:13;GABRIEL IGOR VAZ ALBUQ...</td>\n",
       "    </tr>\n",
       "    <tr>\n",
       "      <th>39055</th>\n",
       "      <td>150;2023-09-02;19:33:19;GABRIEL IGOR VAZ ALBUQ...</td>\n",
       "    </tr>\n",
       "  </tbody>\n",
       "</table>\n",
       "<p>39056 rows × 1 columns</p>\n",
       "</div>"
      ],
      "text/plain": [
       "      ;Data;Hora;Operador;IdOperador;Tabulados;PhoneNumber;tempoFalando;tempoTabulando;NomeServico;tempoEspera;WorkGroup_Id;SUPERVISOR\n",
       "0      0;2023-09-02;08:01:21;EVILA RAQUEL PINTO NUNES...                                                                              \n",
       "1      1;2023-09-02;08:01:46;MARIA ANGELICA BATISTA A...                                                                              \n",
       "2      2;2023-09-02;08:02:18;ANNA FLAVIA MOTA DOMINGO...                                                                              \n",
       "3      3;2023-09-02;08:02:53;LISANDRA DA COSTA SIMPLI...                                                                              \n",
       "4      4;2023-09-02;08:03:28;KAMILLA PEREIRA DA SILVA...                                                                              \n",
       "...                                                  ...                                                                              \n",
       "39051  146;2023-09-02;20:36:52;NEIANE DA SILVA LEANDR...                                                                              \n",
       "39052  147;2023-09-02;19:14:46;NEIANE DA SILVA LEANDR...                                                                              \n",
       "39053  148;2023-09-02;19:16:15;NEIANE DA SILVA LEANDR...                                                                              \n",
       "39054  149;2023-09-02;20:39:13;GABRIEL IGOR VAZ ALBUQ...                                                                              \n",
       "39055  150;2023-09-02;19:33:19;GABRIEL IGOR VAZ ALBUQ...                                                                              \n",
       "\n",
       "[39056 rows x 1 columns]"
      ]
     },
     "execution_count": 2,
     "metadata": {},
     "output_type": "execute_result"
    }
   ],
   "source": [
    "import pandas as pd \n",
    "\n",
    "file = r\"\\\\192.168.10.21\\saturno\\24 - MIS\\07 - TIM\\43 - Chamadas não perfiladas\\02 - Output\\parquet\\base.parquet\"\n",
    "\n",
    "\n",
    "pd.read_parquet(file, engine= 'pyarrow')"
   ]
  },
  {
   "cell_type": "code",
   "execution_count": null,
   "metadata": {},
   "outputs": [],
   "source": [
    "\n",
    "try:\n",
    "        # Define um dicionário 'data' com os parâmetros necessários para enviar a mensagem\n",
    "        data = {\"chat_id\": chat_id, \"text\": message}\n",
    "        \n",
    "        # Monta a URL da API do Telegram com o token do bot\n",
    "        url = \"https://api.telegram.org/bot{}/sendMessage\".format(token)\n",
    "        \n",
    "        # Envia a requisição POST para a URL com os dados da mensagem\n",
    "        requests.post(url, data)\n",
    "        \n",
    "except Exception as e:\n",
    "        # Captura e imprime qualquer erro que ocorra durante o envio\n",
    "        print(\"Erro no sendMessage:\", e)\n"
   ]
  }
 ],
 "metadata": {
  "kernelspec": {
   "display_name": "Python 3",
   "language": "python",
   "name": "python3"
  },
  "language_info": {
   "codemirror_mode": {
    "name": "ipython",
    "version": 3
   },
   "file_extension": ".py",
   "mimetype": "text/x-python",
   "name": "python",
   "nbconvert_exporter": "python",
   "pygments_lexer": "ipython3",
   "version": "3.11.4"
  },
  "orig_nbformat": 4
 },
 "nbformat": 4,
 "nbformat_minor": 2
}
