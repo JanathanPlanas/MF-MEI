{
 "cells": [
  {
   "cell_type": "code",
   "execution_count": 3,
   "metadata": {},
   "outputs": [
    {
     "name": "stdout",
     "output_type": "stream",
     "text": [
      "Id do chat: -984227354\n"
     ]
    }
   ],
   "source": [
    "# mostra o id do último grupo adicionado\n",
    "# importar biblioteca para requisições http\n",
    "import requests\n",
    "def last_chat_id(token):\n",
    "    try:\n",
    "        url = \"https://api.telegram.org/bot{}/getUpdates\".format(token)\n",
    "        response = requests.get(url)\n",
    "        if response.status_code == 200:\n",
    "            json_msg = response.json()\n",
    "            for json_result in reversed(json_msg['result']):\n",
    "                message_keys = json_result['message'].keys()\n",
    "                if ('new_chat_member' in message_keys) or ('group_chat_created' in message_keys):\n",
    "                    return json_result['message']['chat']['id']\n",
    "            print('Nenhum grupo encontrado')\n",
    "        else:\n",
    "            print('A resposta falhou, código de status: {}'.format(response.status_code))\n",
    "    except Exception as e:\n",
    "        print(\"Erro no getUpdates:\", e)\n",
    "\n",
    "# enviar mensagens utilizando o bot para um chat específico\n",
    "def send_message(token, chat_id, message):\n",
    "    try:\n",
    "        data = {\"chat_id\": chat_id, \"text\": message}\n",
    "        url = \"https://api.telegram.org/bot{}/sendMessage\".format(token)\n",
    "        requests.post(url, data)\n",
    "    except Exception as e:\n",
    "        print(\"Erro no sendMessage:\", e)\n",
    "\n",
    "\n",
    "\n",
    "token = \"6544006198:AAG8OQSnoIgUJCRzh8mBjQomhWDaqJ6guCM\"\n",
    "chat = -984227354\n",
    "# id do chat que será enviado as mensagens\n",
    "chat_id = last_chat_id(token)\n",
    "\n",
    "print(\"Id do chat:\", chat_id)"
   ]
  },
  {
   "cell_type": "code",
   "execution_count": 7,
   "metadata": {},
   "outputs": [],
   "source": [
    "token = \"6544006198:AAG8OQSnoIgUJCRzh8mBjQomhWDaqJ6guCM\"\n",
    "chat = '-984227354'\n",
    "b"
   ]
  },
  {
   "cell_type": "code",
   "execution_count": null,
   "metadata": {},
   "outputs": [],
   "source": [
    "from ayx import Alteryx\n",
    "# mostra o id do último grupo adicionado\n",
    "# importar biblioteca para requisições http\n",
    "caminho = r\"M:\\24 - MIS\\01 - RELATÓRIOS\\16 - UNIMED CE\\03 - BASES\\ENVIO_TELEGRAM\\HXH.png\"\n",
    "token = '6614403652:AAH1Ja8TFpTKV6RNTAj47c7UD3r7vS6CKj8'\n",
    "chat_id = '-911025009'\n",
    "\n",
    "import requests\n",
    "\n",
    "# URL da API do Telegram para enviar a foto\n",
    "url = f'https://api.telegram.org/bot{token}/sendPhoto'\n",
    "\n",
    "# Parâmetros da requisição\n",
    "params = {\n",
    "    'chat_id': chat_id,\n",
    "}\n",
    "\n",
    "# Abrir o arquivo da foto em modo binário\n",
    "with open(caminho, 'rb') as foto:\n",
    "    # Enviar a foto como um arquivo\n",
    "    response = requests.post(url, params=params, files={'photo': foto})\n",
    "\n",
    "# Verifique a resposta\n",
    "if response.status_code == 200:\n",
    "    print(\"Foto enviada com sucesso!\")\n",
    "else:\n",
    "    print(\"Erro ao enviar a foto:\", response.text)\n",
    "\n",
    "\n"
   ]
  },
  {
   "cell_type": "code",
   "execution_count": 9,
   "metadata": {},
   "outputs": [
    {
     "name": "stdout",
     "output_type": "stream",
     "text": [
      "Screenshot capturado com sucesso e salvo como screenshot.png\n"
     ]
    }
   ],
   "source": [
    "from selenium import webdriver\n",
    "\n",
    "# Configuração do Chrome WebDriver (certifique-se de que o Chrome está instalado)\n",
    "chrome_options = webdriver.ChromeOptions()\n",
    "chrome_options.add_argument('--headless')  # Isso permite que o Chrome funcione sem abrir uma janela gráfica\n",
    "\n",
    "# Crie uma instância do driver do Chrome\n",
    "driver = webdriver.Chrome(options=chrome_options)\n",
    "\n",
    "# URL da página da web que você deseja capturar\n",
    "url = 'https://www.op.gg/?hl=pt_BR'\n",
    "\n",
    "# Abra a página da web\n",
    "driver.get(url)\n",
    "\n",
    "# Tire um screenshot da página\n",
    "driver.save_screenshot('screenshot.png')\n",
    "\n",
    "# Feche o driver\n",
    "driver.quit()\n",
    "\n",
    "print('Screenshot capturado com sucesso e salvo como screenshot.png')\n"
   ]
  }
 ],
 "metadata": {
  "kernelspec": {
   "display_name": "Python 3",
   "language": "python",
   "name": "python3"
  },
  "language_info": {
   "codemirror_mode": {
    "name": "ipython",
    "version": 3
   },
   "file_extension": ".py",
   "mimetype": "text/x-python",
   "name": "python",
   "nbconvert_exporter": "python",
   "pygments_lexer": "ipython3",
   "version": "3.11.3"
  },
  "orig_nbformat": 4
 },
 "nbformat": 4,
 "nbformat_minor": 2
}
